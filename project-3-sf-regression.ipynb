{
 "cells": [
  {
   "cell_type": "markdown",
   "metadata": {},
   "source": [
    "<img src=\"http://imgur.com/1ZcRyrc.png\" style=\"float: left; margin: 15px; height: 80px\">\n",
    "\n",
    "# Project 3\n",
    "\n",
    "## San Francisco Data\n",
    "\n",
    "---\n",
    "\n",
    "[San Francisco provides a wealth of data on the city to the public.](https://data.sfgov.org/) \n",
    "\n",
    "Project 3 is all about modelling exploring this data and modeling interesting relationships with regression. \n",
    "\n",
    "\n",
    "---\n",
    "\n",
    "## Notes on the data\n",
    "\n",
    "We have gone through the above website and pulled out a variety of different datasets that we think are particularly interesting. Some of the datasets are from external sources as well, but all are related to San Francisco. A high level overview of data folders is provided after the project requirements section.\n",
    "\n",
    "** Feel free to include any other datasets from the San Francisco data if you think there is relevance or if it could be useful for your analysis.**\n",
    "\n",
    "\n",
    "**The uncompressed data is a large filesize.** Even the compressed data is pretty large. The data is compressed into a .7z format which has one of the smallest filesizes available. You will likely need a 3rd party app to extract it. \n",
    "\n",
    "### Recommended Utilities for .7z\n",
    "- For OSX [Keka](http://www.kekaosx.com/en/) or [The Unarchiver](http://wakaba.c3.cx/s/apps/unarchiver.html). \n",
    "- For Windows [7-zip](http://www.7-zip.org/) is the standard. \n",
    "- For Linux try the `p7zip` utility.  `sudo apt-get install p7zip`.\n",
    "\n",
    "---\n",
    "\n",
    "## Project requirements\n",
    "\n",
    "**You will be performing 4 different sections of analysis on the San Francisco data.**\n",
    "\n",
    "**Models must be regression. This means that your target variable needs to be numeric/continuous**\n",
    "\n",
    "Do not perform classification models – this will be the topic of week 4.\n"
   ]
  },
  {
   "cell_type": "markdown",
   "metadata": {},
   "source": [
    "<img src=\"http://imgur.com/l5NasQj.png\" style=\"float: left; margin: 25px 15px 0px 0px; height: 25px\">\n",
    "\n",
    "### 1. Use the San Francisco assessor dataset and perform EDA\n",
    "\n",
    "---\n",
    "\n",
    "1. Explain what the data is. This may include multiple csv files. Some of this data has hard to understand codes representing the variables. Nearly all data is pulled from https://data.sfgov.org/ so this is a very good resource for determining what the data is.\n",
    "- Clean the data.\n",
    "- Develop and state clearly a hypothesis about the data that you would want to test.(This is totally upto you)\n",
    "- Create some initial visualizations on the portions of the data relevant to your hypothesis."
   ]
  },
  {
   "cell_type": "code",
   "execution_count": 12,
   "metadata": {
    "collapsed": true
   },
   "outputs": [],
   "source": [
    "import pandas as pd\n",
    "import numpy as np\n",
    "import matplotlib.pyplot as plt\n",
    "%matplotlib inline"
   ]
  },
  {
   "cell_type": "code",
   "execution_count": 8,
   "metadata": {
    "collapsed": false
   },
   "outputs": [],
   "source": [
    "assessor_value = pd.read_csv('/Users/yangliu/Desktop/dsi-sf-7-materials-yangliu/datasets/sf_assessor_value/assessor_value_cleaned.csv')\n",
    "#assessor_data_2007_2008 = pd.read_csv('/Users/yangliu/Desktop/dsi-sf-7-materials-yangliu/datasets/san_francisco/san_francisco/assessor_office/assessor_data_2007_2008.csv')\n",
    "#assessor_data_2008_2009 = pd.read_csv('/Users/yangliu/Desktop/dsi-sf-7-materials-yangliu/datasets/san_francisco/san_francisco/assessor_office/assessor_data_2008_2009.csv')"
   ]
  },
  {
   "cell_type": "code",
   "execution_count": 9,
   "metadata": {
    "collapsed": false
   },
   "outputs": [
    {
     "data": {
      "text/html": [
       "<div>\n",
       "<style>\n",
       "    .dataframe thead tr:only-child th {\n",
       "        text-align: right;\n",
       "    }\n",
       "\n",
       "    .dataframe thead th {\n",
       "        text-align: left;\n",
       "    }\n",
       "\n",
       "    .dataframe tbody tr th {\n",
       "        vertical-align: top;\n",
       "    }\n",
       "</style>\n",
       "<table border=\"1\" class=\"dataframe\">\n",
       "  <thead>\n",
       "    <tr style=\"text-align: right;\">\n",
       "      <th></th>\n",
       "      <th>baths</th>\n",
       "      <th>beds</th>\n",
       "      <th>lot_depth</th>\n",
       "      <th>basement_area</th>\n",
       "      <th>front_ft</th>\n",
       "      <th>owner_pct</th>\n",
       "      <th>rooms</th>\n",
       "      <th>property_class</th>\n",
       "      <th>neighborhood</th>\n",
       "      <th>tax_rate</th>\n",
       "      <th>volume</th>\n",
       "      <th>sqft</th>\n",
       "      <th>stories</th>\n",
       "      <th>year_recorded</th>\n",
       "      <th>year_built</th>\n",
       "      <th>zone</th>\n",
       "      <th>value</th>\n",
       "    </tr>\n",
       "  </thead>\n",
       "  <tbody>\n",
       "    <tr>\n",
       "      <th>0</th>\n",
       "      <td>2</td>\n",
       "      <td>2</td>\n",
       "      <td>0.0</td>\n",
       "      <td>0.0</td>\n",
       "      <td>0.0</td>\n",
       "      <td>1.00000</td>\n",
       "      <td>5</td>\n",
       "      <td>Z</td>\n",
       "      <td>08E</td>\n",
       "      <td>1000.0</td>\n",
       "      <td>1</td>\n",
       "      <td>1419</td>\n",
       "      <td>0</td>\n",
       "      <td>2007</td>\n",
       "      <td>1907</td>\n",
       "      <td>RH3</td>\n",
       "      <td>1002840.0</td>\n",
       "    </tr>\n",
       "    <tr>\n",
       "      <th>1</th>\n",
       "      <td>2</td>\n",
       "      <td>2</td>\n",
       "      <td>0.0</td>\n",
       "      <td>0.0</td>\n",
       "      <td>0.0</td>\n",
       "      <td>1.00000</td>\n",
       "      <td>7</td>\n",
       "      <td>Z</td>\n",
       "      <td>08E</td>\n",
       "      <td>1000.0</td>\n",
       "      <td>1</td>\n",
       "      <td>1773</td>\n",
       "      <td>0</td>\n",
       "      <td>2007</td>\n",
       "      <td>1907</td>\n",
       "      <td>RH3</td>\n",
       "      <td>1433430.0</td>\n",
       "    </tr>\n",
       "    <tr>\n",
       "      <th>2</th>\n",
       "      <td>2</td>\n",
       "      <td>2</td>\n",
       "      <td>0.0</td>\n",
       "      <td>0.0</td>\n",
       "      <td>0.0</td>\n",
       "      <td>1.00000</td>\n",
       "      <td>5</td>\n",
       "      <td>Z</td>\n",
       "      <td>08E</td>\n",
       "      <td>1000.0</td>\n",
       "      <td>1</td>\n",
       "      <td>1242</td>\n",
       "      <td>0</td>\n",
       "      <td>2007</td>\n",
       "      <td>1995</td>\n",
       "      <td>C2</td>\n",
       "      <td>485599.0</td>\n",
       "    </tr>\n",
       "    <tr>\n",
       "      <th>3</th>\n",
       "      <td>1</td>\n",
       "      <td>0</td>\n",
       "      <td>0.0</td>\n",
       "      <td>0.0</td>\n",
       "      <td>0.0</td>\n",
       "      <td>0.33333</td>\n",
       "      <td>6</td>\n",
       "      <td>D</td>\n",
       "      <td>08E</td>\n",
       "      <td>1000.0</td>\n",
       "      <td>1</td>\n",
       "      <td>1820</td>\n",
       "      <td>1</td>\n",
       "      <td>2007</td>\n",
       "      <td>1927</td>\n",
       "      <td>RH3</td>\n",
       "      <td>120826.0</td>\n",
       "    </tr>\n",
       "    <tr>\n",
       "      <th>4</th>\n",
       "      <td>1</td>\n",
       "      <td>0</td>\n",
       "      <td>0.0</td>\n",
       "      <td>0.0</td>\n",
       "      <td>0.0</td>\n",
       "      <td>1.00000</td>\n",
       "      <td>4</td>\n",
       "      <td>D</td>\n",
       "      <td>08E</td>\n",
       "      <td>1000.0</td>\n",
       "      <td>1</td>\n",
       "      <td>1020</td>\n",
       "      <td>1</td>\n",
       "      <td>2007</td>\n",
       "      <td>1926</td>\n",
       "      <td>RH3</td>\n",
       "      <td>988380.0</td>\n",
       "    </tr>\n",
       "  </tbody>\n",
       "</table>\n",
       "</div>"
      ],
      "text/plain": [
       "   baths  beds  lot_depth  basement_area  front_ft  owner_pct  rooms  \\\n",
       "0      2     2        0.0            0.0       0.0    1.00000      5   \n",
       "1      2     2        0.0            0.0       0.0    1.00000      7   \n",
       "2      2     2        0.0            0.0       0.0    1.00000      5   \n",
       "3      1     0        0.0            0.0       0.0    0.33333      6   \n",
       "4      1     0        0.0            0.0       0.0    1.00000      4   \n",
       "\n",
       "  property_class neighborhood  tax_rate  volume  sqft  stories  year_recorded  \\\n",
       "0              Z          08E    1000.0       1  1419        0           2007   \n",
       "1              Z          08E    1000.0       1  1773        0           2007   \n",
       "2              Z          08E    1000.0       1  1242        0           2007   \n",
       "3              D          08E    1000.0       1  1820        1           2007   \n",
       "4              D          08E    1000.0       1  1020        1           2007   \n",
       "\n",
       "   year_built zone      value  \n",
       "0        1907  RH3  1002840.0  \n",
       "1        1907  RH3  1433430.0  \n",
       "2        1995   C2   485599.0  \n",
       "3        1927  RH3   120826.0  \n",
       "4        1926  RH3   988380.0  "
      ]
     },
     "execution_count": 9,
     "metadata": {},
     "output_type": "execute_result"
    }
   ],
   "source": [
    "assessor_value.head()"
   ]
  },
  {
   "cell_type": "code",
   "execution_count": 65,
   "metadata": {
    "collapsed": false,
    "scrolled": true
   },
   "outputs": [
    {
     "name": "stdout",
     "output_type": "stream",
     "text": [
      "<class 'pandas.core.frame.DataFrame'>\n",
      "RangeIndex: 754147 entries, 0 to 754146\n",
      "Data columns (total 18 columns):\n",
      "baths             754147 non-null int64\n",
      "beds              754147 non-null int64\n",
      "lot_depth         754147 non-null float64\n",
      "basement_area     754147 non-null float64\n",
      "front_ft          754147 non-null float64\n",
      "owner_pct         754147 non-null float64\n",
      "rooms             754147 non-null int64\n",
      "property_class    754147 non-null object\n",
      "neighborhood      754147 non-null object\n",
      "tax_rate          754147 non-null float64\n",
      "volume            754147 non-null int64\n",
      "sqft              754147 non-null int64\n",
      "stories           754147 non-null int64\n",
      "year_recorded     754147 non-null int64\n",
      "year_built        754147 non-null int64\n",
      "zone              754147 non-null object\n",
      "value             754147 non-null float64\n",
      "enc_class         754147 non-null int64\n",
      "dtypes: float64(6), int64(9), object(3)\n",
      "memory usage: 103.6+ MB\n"
     ]
    }
   ],
   "source": [
    "assessor_value.info()\n",
    "#There is no null value in this dataset."
   ]
  },
  {
   "cell_type": "code",
   "execution_count": null,
   "metadata": {
    "collapsed": true
   },
   "outputs": [],
   "source": [
    "#the data is provided by the Office of the Assessor-Recorder. It includes information about location of property,\n",
    "#value of property, and specific property characteristics. "
   ]
  },
  {
   "cell_type": "code",
   "execution_count": 11,
   "metadata": {
    "collapsed": false
   },
   "outputs": [
    {
     "data": {
      "text/plain": [
       "D      627017\n",
       "Z      120853\n",
       "LZ       3402\n",
       "ZBM      1479\n",
       "TH        929\n",
       "DBM       467\n",
       "Name: property_class, dtype: int64"
      ]
     },
     "execution_count": 11,
     "metadata": {},
     "output_type": "execute_result"
    }
   ],
   "source": [
    "#assessor_value.property_class.value_counts()"
   ]
  },
  {
   "cell_type": "code",
   "execution_count": 17,
   "metadata": {
    "collapsed": false
   },
   "outputs": [
    {
     "data": {
      "image/png": "[encoded data removed]",
      "text/plain": [
       "<matplotlib.figure.Figure at 0x11455ce50>"
      ]
     },
     "metadata": {},
     "output_type": "display_data"
    }
   ],
   "source": [
    "\"\"\"\n",
    "class_pivot = assessor_value.pivot_table(index='property_class',\n",
    "                                    values='value', aggfunc=np.median)\n",
    "class_pivot.plot(kind='bar', color='blue')\n",
    "plt.xlabel('property_class')\n",
    "plt.ylabel('value')\n",
    "plt.xticks(rotation=0)\n",
    "plt.show()"
   ]
  },
  {
   "cell_type": "code",
   "execution_count": 60,
   "metadata": {
    "collapsed": true
   },
   "outputs": [],
   "source": [
    "#change all object variables to dummy variables\n",
    "\"\"\"\n",
    "assessor_value_cat = assessor_value.select_dtypes(include=['object'])\n",
    "assessor_value_dummies = pd.get_dummies(assessor_value_cat)\n",
    "\n",
    "assessor_df = pd.concat([assessor_value, assessor_value_dummies], axis=1)"
   ]
  },
  {
   "cell_type": "code",
   "execution_count": null,
   "metadata": {
    "collapsed": true
   },
   "outputs": [],
   "source": [
    "#My hypothesis is value and sqft are positively corelated, year_built and value are positively corelated"
   ]
  },
  {
   "cell_type": "code",
   "execution_count": 62,
   "metadata": {
    "collapsed": false
   },
   "outputs": [
    {
     "data": {
      "image/png": "[encoded data removed]",
      "text/plain": [
       "<matplotlib.figure.Figure at 0x113824350>"
      ]
     },
     "metadata": {},
     "output_type": "display_data"
    }
   ],
   "source": [
    "plt.scatter(x=assessor_df['sqft'], y=assessor_df['value'])\n",
    "plt.ylabel('value')\n",
    "plt.xlabel('sqft')\n",
    "plt.show()\n",
    "#As we can see from the plot, there exits relationship between sqft and value"
   ]
  },
  {
   "cell_type": "code",
   "execution_count": 68,
   "metadata": {
    "collapsed": false
   },
   "outputs": [
    {
     "data": {
      "image/png": "[encoded data removed]",
      "text/plain": [
       "<matplotlib.figure.Figure at 0x114f20450>"
      ]
     },
     "metadata": {},
     "output_type": "display_data"
    }
   ],
   "source": [
    "plt.scatter(x=assessor_df['year_built'], y=assessor_df['value'])\n",
    "plt.ylabel('value')\n",
    "plt.xlabel('year_built')\n",
    "plt.show()\n",
    "#As we can see from the plot, we cannot tell if there is relationship between these two variables."
   ]
  },
  {
   "cell_type": "markdown",
   "metadata": {},
   "source": [
    "<img src=\"http://imgur.com/l5NasQj.png\" style=\"float: left; margin: 25px 15px 0px 0px; height: 25px\">\n",
    "\n",
    "### 2. Construct and evaluate a linear regression model on the data\n",
    "\n",
    "---\n",
    "\n",
    "1. State the variables that are predictors in your linear regression and the target variable.\n",
    "- Investigate and remove any outliers or other problems in your data. _This is a subjective process._\n",
    "- Construct a linear regression model.\n",
    "- Evaluate the model. How does the $R^2$ of the overall model compare to cross-validated $R^2$. What do the differences in $R^2$ mean?\n",
    "  - Use test / train split\n",
    "  - Use K-Folds\n",
    "  - Compare and explain your results with both\n",
    "- Visualize the evaluation metrics of your analysis in clear charts.\n",
    "- Summarize your results in the context of your hypothesis. Frame this as if you are presenting to non-technical readers.\n"
   ]
  },
  {
   "cell_type": "code",
   "execution_count": 23,
   "metadata": {
    "collapsed": true
   },
   "outputs": [],
   "source": [
    "target = assessor_df.value"
   ]
  },
  {
   "cell_type": "code",
   "execution_count": 24,
   "metadata": {
    "collapsed": false
   },
   "outputs": [
    {
     "data": {
      "image/png": "[encoded data removed]",
      "text/plain": [
       "<matplotlib.figure.Figure at 0x1137ccf90>"
      ]
     },
     "metadata": {},
     "output_type": "display_data"
    }
   ],
   "source": [
    "plt.hist(target, color='blue')\n",
    "plt.show()"
   ]
  },
  {
   "cell_type": "code",
   "execution_count": 25,
   "metadata": {
    "collapsed": true
   },
   "outputs": [],
   "source": [
    "#value column is highly skewed. Take a log to normailze\n",
    "y = np.log(target)"
   ]
  },
  {
   "cell_type": "code",
   "execution_count": 70,
   "metadata": {
    "collapsed": false
   },
   "outputs": [],
   "source": [
    "X = assessor_value[['year_built','sqft']]"
   ]
  },
  {
   "cell_type": "code",
   "execution_count": 71,
   "metadata": {
    "collapsed": false
   },
   "outputs": [
    {
     "name": "stdout",
     "output_type": "stream",
     "text": [
      "<class 'pandas.core.frame.DataFrame'>\n",
      "RangeIndex: 754147 entries, 0 to 754146\n",
      "Data columns (total 2 columns):\n",
      "year_built    754147 non-null int64\n",
      "sqft          754147 non-null int64\n",
      "dtypes: int64(2)\n",
      "memory usage: 11.5 MB\n"
     ]
    }
   ],
   "source": [
    "X.info()"
   ]
  },
  {
   "cell_type": "code",
   "execution_count": 72,
   "metadata": {
    "collapsed": true
   },
   "outputs": [],
   "source": [
    "from sklearn import linear_model\n",
    "lr = linear_model.LinearRegression()"
   ]
  },
  {
   "cell_type": "code",
   "execution_count": 75,
   "metadata": {
    "collapsed": false
   },
   "outputs": [
    {
     "name": "stdout",
     "output_type": "stream",
     "text": [
      "('R^2 is:', 0.050187223524470359)\n"
     ]
    },
    {
     "data": {
      "text/plain": [
       "'\\nfrom sklearn.model_selection import StratifiedKFold\\nskf = StratifiedKFold(n_splits=2, shuffle = True)\\n\\nfor train_index, test_index in skf.split(X, y):\\n    X_train, X_test = X[train_index], X[test_index]\\n    y_train, y_test = y[train_index], y[test_index]\\n\\n    lr.fit(X_train, y_train)\\n    print lr.score(X_test, y_test)\\n'"
      ]
     },
     "execution_count": 75,
     "metadata": {},
     "output_type": "execute_result"
    }
   ],
   "source": [
    "from sklearn.model_selection import train_test_split\n",
    "\n",
    "X_train, X_test, y_train, y_test = train_test_split(X, y, random_state=42, test_size=.20)\n",
    "lr = linear_model.LinearRegression()\n",
    "model = lr.fit(X_train, y_train)\n",
    "print ('R^2 is:', model.score(X_test, y_test))\n",
    "\n",
    "\n",
    "\"\"\"\n",
    "from sklearn.model_selection import StratifiedKFold\n",
    "skf = StratifiedKFold(n_splits=2, shuffle = True)\n",
    "\n",
    "for train_index, test_index in skf.split(X, y):\n",
    "    X_train, X_test = X[train_index], X[test_index]\n",
    "    y_train, y_test = y[train_index], y[test_index]\n",
    "\n",
    "    lr.fit(X_train, y_train)\n",
    "    print lr.score(X_test, y_test)\n",
    "\"\"\""
   ]
  },
  {
   "cell_type": "markdown",
   "metadata": {},
   "source": [
    "<img src=\"http://imgur.com/xDpSobf.png\" style=\"float: left; margin: 25px 15px 0px 0px; height: 25px\">\n",
    "\n",
    "### 2.2 Explain $R^2$ vs. mean squared error (MSE)\n",
    "\n",
    "---\n",
    "\n",
    "1. If you have negative $R^2$ values in cross-validation, what does this mean? \n",
    "2. Why can $R^2$ only be negative when the model is tested on new data?"
   ]
  },
  {
   "cell_type": "code",
   "execution_count": null,
   "metadata": {
    "collapsed": true
   },
   "outputs": [],
   "source": [
    "\"\"\"\n",
    "R2 is a measure of how much of the variance in y is explained by x.\n",
    "\n",
    "1.If you have negative  R2R2  values in cross-validation, what does this mean?\n",
    "It means the model is not accurate, need more variables.\n",
    "\n",
    "2.Why can  R2  only be negative when the model is tested on new data?\n",
    "Because I only used two variables in my model, is not accuate to predict"
   ]
  },
  {
   "cell_type": "markdown",
   "metadata": {},
   "source": [
    "<img src=\"http://imgur.com/l5NasQj.png\" style=\"float: left; margin: 25px 15px 0px 0px; height: 25px\">\n",
    "\n",
    "### 3. Combine Crime and Fire incidents datasets from the  San Francisco data. Build a Linear regression model to predict number of fire incidents. What are the most significant predictors?\n",
    "\n",
    "### Evaluate the model with regularized regression.\n",
    "\n",
    "---\n",
    "\n",
    "**I recommend having many predictors to see benefits from regularization methods, but it's up to you.**\n",
    "\n",
    "\n",
    "- Like in part 1, you should state a hypothesis and perform data cleaning and EDA _only_ on the relevant portions of your data. Don't waste time!\n",
    "- Construct and evaluate different models with cross-validated $R^2$. Compare LinearRegression, Lasso, Ridge, and ElasticNet. \n",
    "- Report on which model is best after performing regularization, and why that might be the case (hint: does your data have multicollinearity? Irrelevant variables? Both?)\n",
    "- Plot visuals that compare the performance of the four models.\n"
   ]
  },
  {
   "cell_type": "code",
   "execution_count": 77,
   "metadata": {
    "collapsed": false
   },
   "outputs": [],
   "source": [
    "sf_crime = pd.read_csv('/Users/yangliu/Desktop/dsi-sf-7-materials-yangliu/datasets/san_francisco/san_francisco/sf_crime/sfpd_incidents_from2003.csv')"
   ]
  },
  {
   "cell_type": "code",
   "execution_count": 78,
   "metadata": {
    "collapsed": false
   },
   "outputs": [
    {
     "name": "stdout",
     "output_type": "stream",
     "text": [
      "<class 'pandas.core.frame.DataFrame'>\n",
      "RangeIndex: 1945294 entries, 0 to 1945293\n",
      "Data columns (total 13 columns):\n",
      "IncidntNum    int64\n",
      "Category      object\n",
      "Descript      object\n",
      "DayOfWeek     object\n",
      "Date          object\n",
      "Time          object\n",
      "PdDistrict    object\n",
      "Resolution    object\n",
      "Address       object\n",
      "X             float64\n",
      "Y             float64\n",
      "Location      object\n",
      "PdId          int64\n",
      "dtypes: float64(2), int64(2), object(9)\n",
      "memory usage: 192.9+ MB\n"
     ]
    }
   ],
   "source": [
    "sf_crime.info()"
   ]
  },
  {
   "cell_type": "code",
   "execution_count": 79,
   "metadata": {
    "collapsed": false
   },
   "outputs": [
    {
     "data": {
      "text/html": [
       "<div>\n",
       "<style>\n",
       "    .dataframe thead tr:only-child th {\n",
       "        text-align: right;\n",
       "    }\n",
       "\n",
       "    .dataframe thead th {\n",
       "        text-align: left;\n",
       "    }\n",
       "\n",
       "    .dataframe tbody tr th {\n",
       "        vertical-align: top;\n",
       "    }\n",
       "</style>\n",
       "<table border=\"1\" class=\"dataframe\">\n",
       "  <thead>\n",
       "    <tr style=\"text-align: right;\">\n",
       "      <th></th>\n",
       "      <th>IncidntNum</th>\n",
       "      <th>Category</th>\n",
       "      <th>Descript</th>\n",
       "      <th>DayOfWeek</th>\n",
       "      <th>Date</th>\n",
       "      <th>Time</th>\n",
       "      <th>PdDistrict</th>\n",
       "      <th>Resolution</th>\n",
       "      <th>Address</th>\n",
       "      <th>X</th>\n",
       "      <th>Y</th>\n",
       "      <th>Location</th>\n",
       "      <th>PdId</th>\n",
       "    </tr>\n",
       "  </thead>\n",
       "  <tbody>\n",
       "    <tr>\n",
       "      <th>0</th>\n",
       "      <td>110914565</td>\n",
       "      <td>WARRANTS</td>\n",
       "      <td>WARRANT ARREST</td>\n",
       "      <td>Friday</td>\n",
       "      <td>05/29/2015</td>\n",
       "      <td>16:42</td>\n",
       "      <td>SOUTHERN</td>\n",
       "      <td>ARREST, BOOKED</td>\n",
       "      <td>BRYANT ST / 8TH ST</td>\n",
       "      <td>-122.406971</td>\n",
       "      <td>37.772527</td>\n",
       "      <td>(37.7725273607571, -122.406970988225)</td>\n",
       "      <td>11091456563010</td>\n",
       "    </tr>\n",
       "    <tr>\n",
       "      <th>1</th>\n",
       "      <td>11351210</td>\n",
       "      <td>MISSING PERSON</td>\n",
       "      <td>FOUND PERSON</td>\n",
       "      <td>Tuesday</td>\n",
       "      <td>06/14/2016</td>\n",
       "      <td>08:55</td>\n",
       "      <td>BAYVIEW</td>\n",
       "      <td>NONE</td>\n",
       "      <td>1200 Block of 3RD ST</td>\n",
       "      <td>-122.389518</td>\n",
       "      <td>37.772468</td>\n",
       "      <td>(37.7724682400061, -122.389517648036)</td>\n",
       "      <td>1135121075000</td>\n",
       "    </tr>\n",
       "    <tr>\n",
       "      <th>2</th>\n",
       "      <td>120789988</td>\n",
       "      <td>MISSING PERSON</td>\n",
       "      <td>FOUND PERSON</td>\n",
       "      <td>Monday</td>\n",
       "      <td>05/16/2016</td>\n",
       "      <td>00:41</td>\n",
       "      <td>INGLESIDE</td>\n",
       "      <td>NONE</td>\n",
       "      <td>WOOLSEY ST / UNIVERSITY ST</td>\n",
       "      <td>-122.412470</td>\n",
       "      <td>37.722659</td>\n",
       "      <td>(37.7226585129212, -122.412469643631)</td>\n",
       "      <td>12078998875000</td>\n",
       "    </tr>\n",
       "    <tr>\n",
       "      <th>3</th>\n",
       "      <td>140608681</td>\n",
       "      <td>ROBBERY</td>\n",
       "      <td>ROBBERY, BODILY FORCE</td>\n",
       "      <td>Thursday</td>\n",
       "      <td>06/16/2016</td>\n",
       "      <td>21:00</td>\n",
       "      <td>SOUTHERN</td>\n",
       "      <td>ARREST, BOOKED</td>\n",
       "      <td>0 Block of UNITEDNATIONS PZ</td>\n",
       "      <td>-122.414318</td>\n",
       "      <td>37.779944</td>\n",
       "      <td>(37.7799444052046, -122.414317857881)</td>\n",
       "      <td>14060868103074</td>\n",
       "    </tr>\n",
       "    <tr>\n",
       "      <th>4</th>\n",
       "      <td>140608681</td>\n",
       "      <td>OTHER OFFENSES</td>\n",
       "      <td>VIOLATION OF MUNICIPAL CODE</td>\n",
       "      <td>Thursday</td>\n",
       "      <td>06/16/2016</td>\n",
       "      <td>21:00</td>\n",
       "      <td>SOUTHERN</td>\n",
       "      <td>ARREST, BOOKED</td>\n",
       "      <td>0 Block of UNITEDNATIONS PZ</td>\n",
       "      <td>-122.414318</td>\n",
       "      <td>37.779944</td>\n",
       "      <td>(37.7799444052046, -122.414317857881)</td>\n",
       "      <td>14060868130200</td>\n",
       "    </tr>\n",
       "  </tbody>\n",
       "</table>\n",
       "</div>"
      ],
      "text/plain": [
       "   IncidntNum        Category                     Descript DayOfWeek  \\\n",
       "0   110914565        WARRANTS               WARRANT ARREST    Friday   \n",
       "1    11351210  MISSING PERSON                 FOUND PERSON   Tuesday   \n",
       "2   120789988  MISSING PERSON                 FOUND PERSON    Monday   \n",
       "3   140608681         ROBBERY        ROBBERY, BODILY FORCE  Thursday   \n",
       "4   140608681  OTHER OFFENSES  VIOLATION OF MUNICIPAL CODE  Thursday   \n",
       "\n",
       "         Date   Time PdDistrict      Resolution                      Address  \\\n",
       "0  05/29/2015  16:42   SOUTHERN  ARREST, BOOKED           BRYANT ST / 8TH ST   \n",
       "1  06/14/2016  08:55    BAYVIEW            NONE         1200 Block of 3RD ST   \n",
       "2  05/16/2016  00:41  INGLESIDE            NONE   WOOLSEY ST / UNIVERSITY ST   \n",
       "3  06/16/2016  21:00   SOUTHERN  ARREST, BOOKED  0 Block of UNITEDNATIONS PZ   \n",
       "4  06/16/2016  21:00   SOUTHERN  ARREST, BOOKED  0 Block of UNITEDNATIONS PZ   \n",
       "\n",
       "            X          Y                               Location  \\\n",
       "0 -122.406971  37.772527  (37.7725273607571, -122.406970988225)   \n",
       "1 -122.389518  37.772468  (37.7724682400061, -122.389517648036)   \n",
       "2 -122.412470  37.722659  (37.7226585129212, -122.412469643631)   \n",
       "3 -122.414318  37.779944  (37.7799444052046, -122.414317857881)   \n",
       "4 -122.414318  37.779944  (37.7799444052046, -122.414317857881)   \n",
       "\n",
       "             PdId  \n",
       "0  11091456563010  \n",
       "1   1135121075000  \n",
       "2  12078998875000  \n",
       "3  14060868103074  \n",
       "4  14060868130200  "
      ]
     },
     "execution_count": 79,
     "metadata": {},
     "output_type": "execute_result"
    }
   ],
   "source": [
    "sf_crime.head()"
   ]
  },
  {
   "cell_type": "code",
   "execution_count": 80,
   "metadata": {
    "collapsed": false
   },
   "outputs": [
    {
     "data": {
      "text/html": [
       "<div>\n",
       "<style>\n",
       "    .dataframe thead tr:only-child th {\n",
       "        text-align: right;\n",
       "    }\n",
       "\n",
       "    .dataframe thead th {\n",
       "        text-align: left;\n",
       "    }\n",
       "\n",
       "    .dataframe tbody tr th {\n",
       "        vertical-align: top;\n",
       "    }\n",
       "</style>\n",
       "<table border=\"1\" class=\"dataframe\">\n",
       "  <thead>\n",
       "    <tr style=\"text-align: right;\">\n",
       "      <th></th>\n",
       "      <th>IncidntNum</th>\n",
       "      <th>X</th>\n",
       "      <th>Y</th>\n",
       "      <th>PdId</th>\n",
       "    </tr>\n",
       "  </thead>\n",
       "  <tbody>\n",
       "    <tr>\n",
       "      <th>IncidntNum</th>\n",
       "      <td>1.00000</td>\n",
       "      <td>-0.006570</td>\n",
       "      <td>-0.008790</td>\n",
       "      <td>1.00000</td>\n",
       "    </tr>\n",
       "    <tr>\n",
       "      <th>X</th>\n",
       "      <td>-0.00657</td>\n",
       "      <td>1.000000</td>\n",
       "      <td>0.550614</td>\n",
       "      <td>-0.00657</td>\n",
       "    </tr>\n",
       "    <tr>\n",
       "      <th>Y</th>\n",
       "      <td>-0.00879</td>\n",
       "      <td>0.550614</td>\n",
       "      <td>1.000000</td>\n",
       "      <td>-0.00879</td>\n",
       "    </tr>\n",
       "    <tr>\n",
       "      <th>PdId</th>\n",
       "      <td>1.00000</td>\n",
       "      <td>-0.006570</td>\n",
       "      <td>-0.008790</td>\n",
       "      <td>1.00000</td>\n",
       "    </tr>\n",
       "  </tbody>\n",
       "</table>\n",
       "</div>"
      ],
      "text/plain": [
       "            IncidntNum         X         Y     PdId\n",
       "IncidntNum     1.00000 -0.006570 -0.008790  1.00000\n",
       "X             -0.00657  1.000000  0.550614 -0.00657\n",
       "Y             -0.00879  0.550614  1.000000 -0.00879\n",
       "PdId           1.00000 -0.006570 -0.008790  1.00000"
      ]
     },
     "execution_count": 80,
     "metadata": {},
     "output_type": "execute_result"
    }
   ],
   "source": [
    "sf_crime.corr()"
   ]
  },
  {
   "cell_type": "code",
   "execution_count": 83,
   "metadata": {
    "collapsed": false
   },
   "outputs": [
    {
     "data": {
      "text/plain": [
       "GRAND THEFT FROM LOCKED AUTO                              141417\n",
       "LOST PROPERTY                                              69443\n",
       "BATTERY                                                    59903\n",
       "STOLEN AUTOMOBILE                                          59325\n",
       "DRIVERS LICENSE, SUSPENDED OR REVOKED                      58922\n",
       "WARRANT ARREST                                             51778\n",
       "AIDED CASE, MENTAL DISTURBED                               48721\n",
       "SUSPICIOUS OCCURRENCE                                      47469\n",
       "PETTY THEFT FROM LOCKED AUTO                               44590\n",
       "MALICIOUS MISCHIEF, VANDALISM OF VEHICLES                  39376\n",
       "PETTY THEFT OF PROPERTY                                    37405\n",
       "MALICIOUS MISCHIEF, VANDALISM                              36293\n",
       "TRAFFIC VIOLATION                                          34964\n",
       "THREATS AGAINST LIFE                                       31618\n",
       "FOUND PROPERTY                                             28128\n",
       "ENROUTE TO OUTSIDE JURISDICTION                            25491\n",
       "GRAND THEFT OF PROPERTY                                    24862\n",
       "PETTY THEFT FROM A BUILDING                                22542\n",
       "PETTY THEFT SHOPLIFTING                                    21264\n",
       "POSSESSION OF NARCOTICS PARAPHERNALIA                      21206\n",
       "FOUND PERSON                                               21079\n",
       "GRAND THEFT FROM A BUILDING                                20577\n",
       "CREDIT CARD, THEFT BY USE OF                               19828\n",
       "RESISTING ARREST                                           19285\n",
       "STOLEN TRUCK                                               18853\n",
       "MISSING JUVENILE                                           18254\n",
       "MISCELLANEOUS INVESTIGATION                                18075\n",
       "MISSING ADULT                                              17910\n",
       "PROBATION VIOLATION                                        16745\n",
       "VEHICLE, RECOVERED, AUTO                                   16728\n",
       "                                                           ...  \n",
       "HARASSING CHILD OR WARD BECAUSE OF PERSON'S EMPLOYMENT         1\n",
       "ASSAULT, AGGRAVATED, ON POLICE OFFICER, W/ SEMI AUTO           1\n",
       "ASSAULT TO ROB WITH BODILY FORCE                               1\n",
       "VETERAN OR EX-SERVICEMAN, FALSE REPRESENTATION AS              1\n",
       "HAZARDOUS MATERIALS, STORE WITHOUT PERMIT                      1\n",
       "FALSE REPRESENTATION TO SECONDHAND DEALER                      1\n",
       "TRANSPORTATION OF OPIUM                                        1\n",
       "BIGAMY, INCEST, AND THE CRIME AGAINST NATURE (GENERAL)         1\n",
       "ATTEMPTED HOMICIDE BY SNIPING                                  1\n",
       "VIOLATION OF CALIF UNEMPLOYMENT INSURANCE ACT                  1\n",
       "PERMIT VIOLATION, ADVERTISING HANDBILL DISTRIBUTION            1\n",
       "ENCOURAGE MINOR TO USE HEROIN                                  1\n",
       "SNIPER SCOPE, POSSESSION OF                                    1\n",
       "SAFE BURGLARY OF A RESIDENCE WITH EXPLOSIVES                   1\n",
       "UNSOLICITED FAX ADVERTISING                                    1\n",
       "BURGLARY,HOTEL UNDER CONSTRUCTION, ATT. FORCIBLE               1\n",
       "ENCOURAGE MINOR TO USE AMPHETAMINE                             1\n",
       "CRIMES INVOLVING RECEIPTS OR TITLES                            1\n",
       "DISTURBANCE OF NON-RELIGIOUS, NON-POLITICAL ASSEMBLY           1\n",
       "ENCOURAGE MINOR TO USE METH-AMPHETAMINE                        1\n",
       "MERCHANDISE TITLE DOCUMENT FRAUD                               1\n",
       "PLANTING/CULTIVATING PEYOTE                                    1\n",
       "ASSAULT TO ROB ON THE STREET W/DEADLY WEAPON                   1\n",
       "ASSAULT, AGGRAVATED, ON POLICE OFFICER, W/ FULL AUTO           1\n",
       "REFUSAL TO IDENTIFY                                            1\n",
       "ASSAULT TO ROB BANK WITH A GUN                                 1\n",
       "ROBBERY, VEHICLE FOR HIRE, ATT., W/ KNIFE                      1\n",
       "EMBEZZLEMENT, PETTY THEFT BY COLLECTOR                         1\n",
       "PUBLIC UTILITY INFORMATION, FRAUDULENTLY OBTAINING             1\n",
       "HAZARDOUS MATERIALS, TRANSPORT WITHOUT PERMIT                  1\n",
       "Name: Descript, Length: 913, dtype: int64"
      ]
     },
     "execution_count": 83,
     "metadata": {},
     "output_type": "execute_result"
    }
   ],
   "source": [
    "sf_crime.Descript.value_counts()"
   ]
  },
  {
   "cell_type": "markdown",
   "metadata": {},
   "source": [
    "<img src=\"http://imgur.com/l5NasQj.png\" style=\"float: left; margin: 25px 15px 0px 0px; height: 25px\">\n",
    "\n",
    "### 4. Conduct another analysis using the San Francisco Parks data to predict Park scores\n",
    "\n",
    "---\n",
    "\n",
    "1. Combining multiple sources of park data (csv files) is required.\n",
    "- Perform EDA and cleaning on relevant data.\n",
    "- Construct and compare different regression models with cross-validation.\n",
    "- Plot descriptive visuals you think are useful for understanding the data.\n",
    "- Report on your findings.\n"
   ]
  },
  {
   "cell_type": "code",
   "execution_count": 84,
   "metadata": {
    "collapsed": true
   },
   "outputs": [],
   "source": [
    "park_score = pd.read_csv('/Users/yangliu/Desktop/dsi-sf-7-materials-yangliu/datasets/san_francisco/san_francisco/parks/park_scores.csv')\n",
    "park_info = pd.read_csv('/Users/yangliu/Desktop/dsi-sf-7-materials-yangliu/datasets/san_francisco/san_francisco/parks/park_info.csv')\n",
    "park_donations = pd.read_csv('/Users/yangliu/Desktop/dsi-sf-7-materials-yangliu/datasets/san_francisco/san_francisco/parks/park_donations.csv')"
   ]
  },
  {
   "cell_type": "code",
   "execution_count": 87,
   "metadata": {
    "collapsed": false
   },
   "outputs": [
    {
     "data": {
      "text/html": [
       "<div>\n",
       "<style>\n",
       "    .dataframe thead tr:only-child th {\n",
       "        text-align: right;\n",
       "    }\n",
       "\n",
       "    .dataframe thead th {\n",
       "        text-align: left;\n",
       "    }\n",
       "\n",
       "    .dataframe tbody tr th {\n",
       "        vertical-align: top;\n",
       "    }\n",
       "</style>\n",
       "<table border=\"1\" class=\"dataframe\">\n",
       "  <thead>\n",
       "    <tr style=\"text-align: right;\">\n",
       "      <th></th>\n",
       "      <th>ParkName</th>\n",
       "      <th>ParkType</th>\n",
       "      <th>ParkServiceArea</th>\n",
       "      <th>PSAManager</th>\n",
       "      <th>email</th>\n",
       "      <th>Number</th>\n",
       "      <th>Zipcode</th>\n",
       "      <th>Acreage</th>\n",
       "      <th>SupDist</th>\n",
       "      <th>ParkID</th>\n",
       "      <th>Location 1</th>\n",
       "      <th>Lat</th>\n",
       "    </tr>\n",
       "  </thead>\n",
       "  <tbody>\n",
       "    <tr>\n",
       "      <th>0</th>\n",
       "      <td>ParkName</td>\n",
       "      <td>ParkType</td>\n",
       "      <td>ParkServiceArea</td>\n",
       "      <td>PSAManager</td>\n",
       "      <td>email</td>\n",
       "      <td>Number</td>\n",
       "      <td>NaN</td>\n",
       "      <td>NaN</td>\n",
       "      <td>NaN</td>\n",
       "      <td>NaN</td>\n",
       "      <td>NaN</td>\n",
       "      <td>NaN</td>\n",
       "    </tr>\n",
       "    <tr>\n",
       "      <th>1</th>\n",
       "      <td>10TH AVE/CLEMENT MINI PARK</td>\n",
       "      <td>Mini Park</td>\n",
       "      <td>PSA 1</td>\n",
       "      <td>Elder, Steve</td>\n",
       "      <td>steven.elder@sfgov.org</td>\n",
       "      <td>(415) 601-6501</td>\n",
       "      <td>94118.0</td>\n",
       "      <td>0.66</td>\n",
       "      <td>1.0</td>\n",
       "      <td>156.0</td>\n",
       "      <td>351 9th Ave\\nSan Francisco, CA\\n(37.78184397, ...</td>\n",
       "      <td>NaN</td>\n",
       "    </tr>\n",
       "    <tr>\n",
       "      <th>2</th>\n",
       "      <td>15TH AVENUE STEPS</td>\n",
       "      <td>Mini Park</td>\n",
       "      <td>PSA 4</td>\n",
       "      <td>Sheehy, Chuck</td>\n",
       "      <td>charles.sheehy@sfgov.org</td>\n",
       "      <td>(415) 218-2226</td>\n",
       "      <td>94122.0</td>\n",
       "      <td>0.26</td>\n",
       "      <td>7.0</td>\n",
       "      <td>185.0</td>\n",
       "      <td>15th Ave b w Kirkham\\nSan Francisco, CA\\n(37.7...</td>\n",
       "      <td>NaN</td>\n",
       "    </tr>\n",
       "    <tr>\n",
       "      <th>3</th>\n",
       "      <td>24TH/YORK MINI PARK</td>\n",
       "      <td>Mini Park</td>\n",
       "      <td>PSA 6</td>\n",
       "      <td>Field, Adrian</td>\n",
       "      <td>adrian.field@sfgov.org</td>\n",
       "      <td>(415) 717-2872</td>\n",
       "      <td>94110.0</td>\n",
       "      <td>0.12</td>\n",
       "      <td>9.0</td>\n",
       "      <td>51.0</td>\n",
       "      <td>24th\\nSan Francisco, CA\\n(37.75306042, -122.40...</td>\n",
       "      <td>NaN</td>\n",
       "    </tr>\n",
       "    <tr>\n",
       "      <th>4</th>\n",
       "      <td>29TH/DIAMOND OPEN SPACE</td>\n",
       "      <td>Neighborhood Park or Playground</td>\n",
       "      <td>PSA 5</td>\n",
       "      <td>O'Brien, Teresa</td>\n",
       "      <td>teresa.o'brien@sfgov.org</td>\n",
       "      <td>(415) 819-2699</td>\n",
       "      <td>94131.0</td>\n",
       "      <td>0.82</td>\n",
       "      <td>8.0</td>\n",
       "      <td>194.0</td>\n",
       "      <td>Diamond\\nSan Francisco, CA\\n(37.74360211, -122...</td>\n",
       "      <td>NaN</td>\n",
       "    </tr>\n",
       "  </tbody>\n",
       "</table>\n",
       "</div>"
      ],
      "text/plain": [
       "                     ParkName                         ParkType  \\\n",
       "0                    ParkName                         ParkType   \n",
       "1  10TH AVE/CLEMENT MINI PARK                        Mini Park   \n",
       "2           15TH AVENUE STEPS                        Mini Park   \n",
       "3         24TH/YORK MINI PARK                        Mini Park   \n",
       "4     29TH/DIAMOND OPEN SPACE  Neighborhood Park or Playground   \n",
       "\n",
       "   ParkServiceArea       PSAManager                     email          Number  \\\n",
       "0  ParkServiceArea       PSAManager                     email          Number   \n",
       "1            PSA 1     Elder, Steve    steven.elder@sfgov.org  (415) 601-6501   \n",
       "2            PSA 4    Sheehy, Chuck  charles.sheehy@sfgov.org  (415) 218-2226   \n",
       "3            PSA 6    Field, Adrian    adrian.field@sfgov.org  (415) 717-2872   \n",
       "4            PSA 5  O'Brien, Teresa  teresa.o'brien@sfgov.org  (415) 819-2699   \n",
       "\n",
       "   Zipcode  Acreage  SupDist  ParkID  \\\n",
       "0      NaN      NaN      NaN     NaN   \n",
       "1  94118.0     0.66      1.0   156.0   \n",
       "2  94122.0     0.26      7.0   185.0   \n",
       "3  94110.0     0.12      9.0    51.0   \n",
       "4  94131.0     0.82      8.0   194.0   \n",
       "\n",
       "                                          Location 1  Lat  \n",
       "0                                                NaN  NaN  \n",
       "1  351 9th Ave\\nSan Francisco, CA\\n(37.78184397, ...  NaN  \n",
       "2  15th Ave b w Kirkham\\nSan Francisco, CA\\n(37.7...  NaN  \n",
       "3  24th\\nSan Francisco, CA\\n(37.75306042, -122.40...  NaN  \n",
       "4  Diamond\\nSan Francisco, CA\\n(37.74360211, -122...  NaN  "
      ]
     },
     "execution_count": 87,
     "metadata": {},
     "output_type": "execute_result"
    }
   ],
   "source": [
    "park_info.head()"
   ]
  },
  {
   "cell_type": "code",
   "execution_count": 86,
   "metadata": {
    "collapsed": false
   },
   "outputs": [
    {
     "data": {
      "text/html": [
       "<div>\n",
       "<style>\n",
       "    .dataframe thead tr:only-child th {\n",
       "        text-align: right;\n",
       "    }\n",
       "\n",
       "    .dataframe thead th {\n",
       "        text-align: left;\n",
       "    }\n",
       "\n",
       "    .dataframe tbody tr th {\n",
       "        vertical-align: top;\n",
       "    }\n",
       "</style>\n",
       "<table border=\"1\" class=\"dataframe\">\n",
       "  <thead>\n",
       "    <tr style=\"text-align: right;\">\n",
       "      <th></th>\n",
       "      <th>Close Date</th>\n",
       "      <th>Account Name</th>\n",
       "      <th>Description</th>\n",
       "      <th>Amount</th>\n",
       "      <th>Type</th>\n",
       "    </tr>\n",
       "  </thead>\n",
       "  <tbody>\n",
       "    <tr>\n",
       "      <th>0</th>\n",
       "      <td>07/08/2014 12:00:00 AM</td>\n",
       "      <td>Glen Park Association</td>\n",
       "      <td>To support botanical signs at the Sunnyside Co...</td>\n",
       "      <td>$500.00</td>\n",
       "      <td>Cash</td>\n",
       "    </tr>\n",
       "    <tr>\n",
       "      <th>1</th>\n",
       "      <td>07/09/2014 12:00:00 AM</td>\n",
       "      <td>USTA NorCAL</td>\n",
       "      <td>To support HITS tennis programming and provide...</td>\n",
       "      <td>$2050.00</td>\n",
       "      <td>Cash</td>\n",
       "    </tr>\n",
       "    <tr>\n",
       "      <th>2</th>\n",
       "      <td>08/21/2014 12:00:00 AM</td>\n",
       "      <td>Walter S. Johnson Foundation</td>\n",
       "      <td>To support grounds maintenance at the Walter S...</td>\n",
       "      <td>$5000.00</td>\n",
       "      <td>Cash</td>\n",
       "    </tr>\n",
       "    <tr>\n",
       "      <th>3</th>\n",
       "      <td>09/04/2014 12:00:00 AM</td>\n",
       "      <td>Kaiser Permanente</td>\n",
       "      <td>To support the Golden Gate Park Senior Center ...</td>\n",
       "      <td>$1000.00</td>\n",
       "      <td>Cash</td>\n",
       "    </tr>\n",
       "    <tr>\n",
       "      <th>4</th>\n",
       "      <td>09/08/2014 12:00:00 AM</td>\n",
       "      <td>San Francisco Parks Alliance (SFPA)</td>\n",
       "      <td>To support landscape improvements to Kezar Tri...</td>\n",
       "      <td>$1732.08</td>\n",
       "      <td>Cash</td>\n",
       "    </tr>\n",
       "  </tbody>\n",
       "</table>\n",
       "</div>"
      ],
      "text/plain": [
       "               Close Date                         Account Name  \\\n",
       "0  07/08/2014 12:00:00 AM                Glen Park Association   \n",
       "1  07/09/2014 12:00:00 AM                          USTA NorCAL   \n",
       "2  08/21/2014 12:00:00 AM         Walter S. Johnson Foundation   \n",
       "3  09/04/2014 12:00:00 AM                    Kaiser Permanente   \n",
       "4  09/08/2014 12:00:00 AM  San Francisco Parks Alliance (SFPA)   \n",
       "\n",
       "                                         Description    Amount  Type  \n",
       "0  To support botanical signs at the Sunnyside Co...   $500.00  Cash  \n",
       "1  To support HITS tennis programming and provide...  $2050.00  Cash  \n",
       "2  To support grounds maintenance at the Walter S...  $5000.00  Cash  \n",
       "3  To support the Golden Gate Park Senior Center ...  $1000.00  Cash  \n",
       "4  To support landscape improvements to Kezar Tri...  $1732.08  Cash  "
      ]
     },
     "execution_count": 86,
     "metadata": {},
     "output_type": "execute_result"
    }
   ],
   "source": [
    "park_donations.head()"
   ]
  },
  {
   "cell_type": "code",
   "execution_count": 85,
   "metadata": {
    "collapsed": false
   },
   "outputs": [
    {
     "data": {
      "text/html": [
       "<div>\n",
       "<style>\n",
       "    .dataframe thead tr:only-child th {\n",
       "        text-align: right;\n",
       "    }\n",
       "\n",
       "    .dataframe thead th {\n",
       "        text-align: left;\n",
       "    }\n",
       "\n",
       "    .dataframe tbody tr th {\n",
       "        vertical-align: top;\n",
       "    }\n",
       "</style>\n",
       "<table border=\"1\" class=\"dataframe\">\n",
       "  <thead>\n",
       "    <tr style=\"text-align: right;\">\n",
       "      <th></th>\n",
       "      <th>ParkID</th>\n",
       "      <th>PSA</th>\n",
       "      <th>Park</th>\n",
       "      <th>FQ</th>\n",
       "      <th>Score</th>\n",
       "    </tr>\n",
       "  </thead>\n",
       "  <tbody>\n",
       "    <tr>\n",
       "      <th>0</th>\n",
       "      <td>86</td>\n",
       "      <td>PSA4</td>\n",
       "      <td>Carl Larsen Park</td>\n",
       "      <td>FY05Q3</td>\n",
       "      <td>0.795</td>\n",
       "    </tr>\n",
       "    <tr>\n",
       "      <th>1</th>\n",
       "      <td>13</td>\n",
       "      <td>PSA4</td>\n",
       "      <td>Junipero Serra Playground</td>\n",
       "      <td>FY05Q3</td>\n",
       "      <td>0.957</td>\n",
       "    </tr>\n",
       "    <tr>\n",
       "      <th>2</th>\n",
       "      <td>9</td>\n",
       "      <td>PSA4</td>\n",
       "      <td>Rolph Nicol Playground</td>\n",
       "      <td>FY05Q3</td>\n",
       "      <td>0.864</td>\n",
       "    </tr>\n",
       "    <tr>\n",
       "      <th>3</th>\n",
       "      <td>117</td>\n",
       "      <td>PSA2</td>\n",
       "      <td>Alamo Square</td>\n",
       "      <td>FY05Q4</td>\n",
       "      <td>0.857</td>\n",
       "    </tr>\n",
       "    <tr>\n",
       "      <th>4</th>\n",
       "      <td>60</td>\n",
       "      <td>PSA6</td>\n",
       "      <td>Jose Coronado Playground</td>\n",
       "      <td>FY05Q4</td>\n",
       "      <td>0.859</td>\n",
       "    </tr>\n",
       "  </tbody>\n",
       "</table>\n",
       "</div>"
      ],
      "text/plain": [
       "   ParkID   PSA                       Park      FQ  Score\n",
       "0      86  PSA4           Carl Larsen Park  FY05Q3  0.795\n",
       "1      13  PSA4  Junipero Serra Playground  FY05Q3  0.957\n",
       "2       9  PSA4     Rolph Nicol Playground  FY05Q3  0.864\n",
       "3     117  PSA2               Alamo Square  FY05Q4  0.857\n",
       "4      60  PSA6   Jose Coronado Playground  FY05Q4  0.859"
      ]
     },
     "execution_count": 85,
     "metadata": {},
     "output_type": "execute_result"
    }
   ],
   "source": [
    "park_score.head()"
   ]
  },
  {
   "cell_type": "markdown",
   "metadata": {},
   "source": [
    "<img src=\"http://imgur.com/GCAf1UX.png\" style=\"float: left; margin: 25px 15px 0px 0px; height: 25px\">\n",
    "\n",
    "## 5. Bias-variance tradeoff\n",
    "\n",
    "---\n",
    "\n",
    "1. Use a model from any of the previous questions above of your choice and construct a regularized regression model . Ideally the model should actually improve across regularization strengths...\n",
    "- Gridsearch the regularization parameters to find the optimal.\n",
    "- Plot the regularization parameter against the cross-validated $R^2$.\n",
    "- Explain how regularization and regularization strength is related to the bias-variance tradeoff.\n"
   ]
  },
  {
   "cell_type": "code",
   "execution_count": null,
   "metadata": {
    "collapsed": true
   },
   "outputs": [],
   "source": [
    "#Use the San Francisco assessor dataset\n",
    "regularize\n",
    "Gridsearch\n",
    "\n",
    "#regualrization to some extent decrease the variance of variables, so it helps to improve model performance and bias\n",
    "#variance tradeoff"
   ]
  },
  {
   "cell_type": "markdown",
   "metadata": {},
   "source": [
    "<img src=\"http://imgur.com/xDpSobf.png\" style=\"float: left; margin: 25px 15px 0px 0px; height: 25px\">\n",
    "\n",
    "### 5.1 Calculate the approximated $\\text{bias}^2$ and variance across regularization strengths.\n",
    "\n",
    "---\n",
    "\n",
    "You can obviously use my code from the bias-variance lab to do this. \n",
    "\n",
    "Plot the bias and variance change _with_ the cross-validated $R^2$. \n",
    "\n",
    "You'll need to scale these values somehow to put them on the same chart (I recommend (MinMaxScaler)[http://scikit-learn.org/stable/modules/generated/sklearn.preprocessing.MinMaxScaler.html] to put $\\text{bias}^2$ and variance on the same scale as cross-validated $R^2$."
   ]
  },
  {
   "cell_type": "code",
   "execution_count": null,
   "metadata": {
    "collapsed": true
   },
   "outputs": [],
   "source": []
  },
  {
   "cell_type": "markdown",
   "metadata": {},
   "source": [
    "<img src=\"http://imgur.com/HNPKfE8.png\" style=\"float: left; margin: 25px 15px 0px 0px; height: 25px\">\n",
    "\n",
    "## 6. Custom regularized regression penalties\n",
    "\n",
    "---\n",
    "\n",
    "The $\\lambda1$ and $\\lambda2$ norm regularization penalties (Lasso and Ridge) are the most commonly used regularization penalties. They have a solid foundation in statistics and evidence of effectiveness. However, these are not the only possible penalties for regression – sometimes new, customized penalties give additional performance and predictive power to models depending on the context.\n",
    "\n",
    "\n",
    "**Devise of and implement a penalized regression for San Francisco Crime data.** What is your rationale – why would this be useful? How does it perform compared to the standard Ridge, Lasso, and Elastic Net penalties?"
   ]
  },
  {
   "cell_type": "markdown",
   "metadata": {
    "collapsed": true
   },
   "source": [
    "## Statistics, Biases, and Hypothesis Testing"
   ]
  },
  {
   "cell_type": "markdown",
   "metadata": {},
   "source": [
    "<img src=\"http://imgur.com/l5NasQj.png\" style=\"float: left; margin: 25px 15px 0px 0px; height: 25px\">\n",
    "\n",
    "## 7. Biases \n",
    "\n",
    "---\n",
    "A new food ordering smartphone app incentivizes its users to invite their friends by offering them free orders for each friend that signs up\n",
    "- What biases are being caused here?\n",
    " \n",
    "- How would you measure the success of such a program?\n",
    "  \n",
    "- Rephrase this question to be unbiased:\n",
    "    ** Many people have said that there is a need for stricter laws on dangerous weapons. Do you agree? ** \n",
    "   \n"
   ]
  },
  {
   "cell_type": "code",
   "execution_count": null,
   "metadata": {
    "collapsed": true
   },
   "outputs": [],
   "source": [
    "\"\"\"\n",
    "What biases are being caused here?\n",
    "\n",
    "How would you measure the success of such a program?\n",
    "The total number of sign up/The total of invitations sent\n",
    "\n",
    "Rephrase this question to be unbiased: Many people have said that there is a need for stricter laws on dangerous weapons. Do you agree?\n"
   ]
  },
  {
   "cell_type": "markdown",
   "metadata": {},
   "source": [
    "<img src=\"http://imgur.com/l5NasQj.png\" style=\"float: left; margin: 25px 15px 0px 0px; height: 25px\">\n",
    "\n",
    "## 8. Hypothesis Testing \n",
    "\n",
    "---\n",
    "\n",
    "For the health/mortality data from the following website: \n",
    "http://assets.datacamp.com/blog_assets/chol.txt'\n",
    "\n",
    "\n",
    "- Generate summary statistics, histogram plots, cdf plots, and confidence intervals for two columns of your choice and a correlation matrix across all\n",
    "- Using what you generated, provide short summaries of each column describing the data\n",
    "- Is there a difference in mortality between smokers, nonsmokers?\n",
    "- If national average weight is 85 pounds, is our weight average significantly different?\n",
    "- Until now, we’ve only asked is it different. This is called a two sided test. \n",
    "    - What if we want to know if its less than or greater than? This is called a one sided test. We can calculate this from the result of a two sided. You divide your p value in half and check if your t statistic is positive or negative Greater than: p/2 < confidence level and t > 0 and Less-than: p/2 < confidence level and t < 0.\n",
    "    \n",
    "    - If national average weight is 85 pounds, is our weight average statistical significantly less?"
   ]
  },
  {
   "cell_type": "code",
   "execution_count": null,
   "metadata": {
    "collapsed": true
   },
   "outputs": [],
   "source": []
  }
 ],
 "metadata": {
  "anaconda-cloud": {},
  "kernelspec": {
   "display_name": "Python [conda env:dsi]",
   "language": "python",
   "name": "conda-env-dsi-py"
  },
  "language_info": {
   "codemirror_mode": {
    "name": "ipython",
    "version": 2
   },
   "file_extension": ".py",
   "mimetype": "text/x-python",
   "name": "python",
   "nbconvert_exporter": "python",
   "pygments_lexer": "ipython2",
   "version": "2.7.13"
  }
 },
 "nbformat": 4,
 "nbformat_minor": 0
}
